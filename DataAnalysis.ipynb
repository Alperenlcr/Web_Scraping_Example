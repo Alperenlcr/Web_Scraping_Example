{
 "cells": [
  {
   "attachments": {},
   "cell_type": "markdown",
   "metadata": {},
   "source": [
    "# Analyzing the scraped data\n",
    "When scraping data from the internet, we often need to do some \"sanity checks\" to make sure that the collected data is what we expect it to be, because in scraping we are exposed to connection problems, bans from the host, and errors caused by the differences between the HTML structures of different web pages.\n",
    "\n",
    "In this notebook, you are asked to plot some graphs to explore the data that you have collected and find the problems in it, if any."
   ]
  },
  {
   "cell_type": "code",
   "execution_count": null,
   "metadata": {},
   "outputs": [],
   "source": [
    "import os\n",
    "import json\n",
    "import matplotlib.pyplot as plt\n",
    "from config import RAW_HTML_DIR, LINK_LIST_PATH, PARSED_HTML_PATH\n",
    "\n",
    "\n",
    "if not os.path.exists('figures'):\n",
    "    os.makedirs('figures')"
   ]
  },
  {
   "attachments": {},
   "cell_type": "markdown",
   "metadata": {},
   "source": [
    "## 1. Exploring the downloaded HTML files"
   ]
  },
  {
   "attachments": {},
   "cell_type": "markdown",
   "metadata": {},
   "source": [
    "### Task 1.1\n",
    "In this task, you have to plot the distribution of the file sizes of the HTML pages that you have downloaded. Usually, all pages will have a similar size. If you notice that you have a number of files with a significantly different size than the majority of the files, then it may be a good idea to check these files and explore the reason behind this difference. For example, in our code we are saving empty HTML files if we face an error while downloading the web pages. Therefore, seeing a number of files with size zero in the histogram indicates that we have some HTML pages that were not downloaded."
   ]
  },
  {
   "cell_type": "code",
   "execution_count": null,
   "metadata": {},
   "outputs": [],
   "source": [
    "# Plot the distribution of the downloaded HTML file sizes\n",
    "# WRITE YOUR CODE HERE\n",
    "sizes = []\n",
    "for file in os.listdir(RAW_HTML_DIR):\n",
    "    if file.endswith('.html'):\n",
    "        path = os.path.join(RAW_HTML_DIR, file)\n",
    "        sizes.append(os.path.getsize(path))\n",
    "plt.hist(sizes)\n",
    "plt.xlabel('Size')\n",
    "plt.ylabel('Pages Count')\n",
    "\n",
    "# Save the final plot in figures/file_sizes.png using the code below\n",
    "plt.savefig('figures/html_file_size.png')"
   ]
  },
  {
   "attachments": {},
   "cell_type": "markdown",
   "metadata": {},
   "source": [
    "### Task 1.2\n",
    "Since the HTML file size is significantly affected by the images it contains, another way to explore the downloaded HTML files is by looking at the number of lines in each file. In this task, you need to plot a distribution of the number of lines in the downloaded HTML files."
   ]
  },
  {
   "cell_type": "code",
   "execution_count": null,
   "metadata": {},
   "outputs": [],
   "source": [
    "# Plot the distribution of line counts in the downloaded HTML files\n",
    "# WRITE YOUR CODE HERE\n",
    "counts = []\n",
    "for file in os.listdir(RAW_HTML_DIR):\n",
    "    with open(os.path.join(RAW_HTML_DIR, file), \"r\", encoding=\"utf-8\") as f:\n",
    "        counts.append(f.read().count(\"\\n\"))\n",
    "plt.hist(counts)\n",
    "plt.xlabel('Line Counts')\n",
    "plt.ylabel('Html pages count')\n",
    "\n",
    "# Save the final plot in figures/html_line_count.png using the code below\n",
    "plt.savefig('figures/html_line_count.png')"
   ]
  },
  {
   "attachments": {},
   "cell_type": "markdown",
   "metadata": {},
   "source": [
    "## 2. Exploring the processed data"
   ]
  },
  {
   "attachments": {},
   "cell_type": "markdown",
   "metadata": {},
   "source": [
    "### Task 2.1\n",
    "The first thing to check is if we have extracted information from all of the collected links or not. In this task, you need to compare the number of links that you have collected (in link_list.txt) to the number of parsed data dictionaries (in parsed_data.jsons) that you have created by parsing the downloaded HTML files."
   ]
  },
  {
   "cell_type": "code",
   "execution_count": null,
   "metadata": {},
   "outputs": [],
   "source": [
    "# Compute the number of links in link_list.txt\n",
    "# WRITE YOUR CODE HERE\n",
    "n_collected_links = 0\n",
    "with open(LINK_LIST_PATH, \"r\") as file:\n",
    "    n_collected_links += len(file.readlines())-1\n",
    "\n",
    "# Compute the number of the parsed data dictionaries in parsed_data.jsons\n",
    "# WRITE YOUR CODE HERE\n",
    "n_parsed_links = 0\n",
    "with open(PARSED_HTML_PATH, \"r\") as f:\n",
    "    n_parsed_links += len(f.readlines())-1\n",
    "\n",
    "print(f\"Number of collected links: {n_collected_links}\")\n",
    "print(f\"Number of parsed links: {n_parsed_links}\")"
   ]
  },
  {
   "attachments": {},
   "cell_type": "markdown",
   "metadata": {},
   "source": [
    "### Task 2.2\n",
    "In this task, you need to plot the distribution of line counts in the text content that you extracted from the HTML web pages. This will help point out some errors in content extraction, if any."
   ]
  },
  {
   "cell_type": "code",
   "execution_count": null,
   "metadata": {},
   "outputs": [],
   "source": [
    "# Plot the distribution of line counts in the extracted text content\n",
    "# WRITE YOUR CODE HERE\n",
    "with open(PARSED_HTML_PATH, \"r\") as f:\n",
    "    lines = f.readlines()\n",
    "counts = []\n",
    "for line in lines:\n",
    "    counts.append(json.loads(line)['content'].count(\"\\n\"))\n",
    "plt.hist(counts)\n",
    "plt.xlabel('Line Count')\n",
    "plt.ylabel('Content')\n",
    "\n",
    "# Save the final plot in figures/content_line_count.png using the code below\n",
    "plt.savefig('figures/content_line_count.png')"
   ]
  },
  {
   "attachments": {},
   "cell_type": "markdown",
   "metadata": {},
   "source": [
    "### Task 2.3\n",
    "In this task, you need to plot the distribution of the dates of the collected news articles."
   ]
  },
  {
   "cell_type": "code",
   "execution_count": null,
   "metadata": {},
   "outputs": [],
   "source": [
    "# Plot the distribution of dates from the extracted date information\n",
    "# WRITE YOUR CODE HERE\n",
    "\n",
    "\n",
    "# Save the final plot in figures/date_dist.png using the code below\n",
    "plt.savefig('figures/date_dist.png')"
   ]
  }
 ],
 "metadata": {
  "kernelspec": {
   "display_name": "selenium_env",
   "language": "python",
   "name": "python3"
  },
  "language_info": {
   "codemirror_mode": {
    "name": "ipython",
    "version": 3
   },
   "file_extension": ".py",
   "mimetype": "text/x-python",
   "name": "python",
   "nbconvert_exporter": "python",
   "pygments_lexer": "ipython3",
   "version": "3.10.9"
  },
  "orig_nbformat": 4
 },
 "nbformat": 4,
 "nbformat_minor": 2
}
